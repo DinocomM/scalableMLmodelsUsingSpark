{
    "cells": [
        {
            "cell_type": "markdown",
            "metadata": {
                "collapsed": true
            },
            "source": "Welcome to exercise two of \u201cApache Spark for Scalable Machine Learning on BigData\u201d. In this exercise you\u2019ll apply the basics of functional and parallel programming. \n\nAgain, please use the following two links for your reference:\nhttps://spark.apache.org/docs/latest/api/python/pyspark.html#pyspark.RDD\nhttps://spark.apache.org/docs/latest/rdd-programming-guide.html\n\nLet\u2019s actually create a python function which decides whether a value is greater than 50 (True) or not (False)."
        },
        {
            "cell_type": "code",
            "execution_count": 1,
            "metadata": {},
            "outputs": [
                {
                    "name": "stdout",
                    "output_type": "stream",
                    "text": "Waiting for a Spark session to start...\nSpark Initialization Done! ApplicationId = app-20191117120528-0000\nKERNEL_ID = 0b980759-f08c-4d22-92bd-91c8c7f5eab5\n"
                }
            ],
            "source": "def gt50(i):\n    if i > 50:\n        return True\n    else:\n        return False"
        },
        {
            "cell_type": "code",
            "execution_count": 2,
            "metadata": {},
            "outputs": [
                {
                    "name": "stdout",
                    "output_type": "stream",
                    "text": "False\nTrue\n"
                }
            ],
            "source": "print(gt50(4))\nprint(gt50(51))"
        },
        {
            "cell_type": "markdown",
            "metadata": {},
            "source": "Let\u2019s simplify this function"
        },
        {
            "cell_type": "code",
            "execution_count": 3,
            "metadata": {},
            "outputs": [],
            "source": "def gt50(i):\n    return i > 50"
        },
        {
            "cell_type": "code",
            "execution_count": 4,
            "metadata": {},
            "outputs": [
                {
                    "name": "stdout",
                    "output_type": "stream",
                    "text": "False\nTrue\n"
                }
            ],
            "source": "print(gt50(4))\nprint(gt50(51))"
        },
        {
            "cell_type": "markdown",
            "metadata": {},
            "source": "Now let\u2019s use the lambda notation to define the function."
        },
        {
            "cell_type": "code",
            "execution_count": 5,
            "metadata": {},
            "outputs": [],
            "source": "gt50 = lambda i: i > 50"
        },
        {
            "cell_type": "code",
            "execution_count": 6,
            "metadata": {},
            "outputs": [
                {
                    "name": "stdout",
                    "output_type": "stream",
                    "text": "False\nTrue\n"
                }
            ],
            "source": "print(gt50(4))\nprint(gt50(51))"
        },
        {
            "cell_type": "code",
            "execution_count": 7,
            "metadata": {},
            "outputs": [],
            "source": "#let's shuffle our list to make it a bit more interesting\nfrom random import shuffle\nl = list(range(100))\nshuffle(l)\nrdd = sc.parallelize(l)"
        },
        {
            "cell_type": "markdown",
            "metadata": {},
            "source": "Let\u2019s filter values from our list which are equals or less than 50 by applying our \u201cgt50\u201d function to the list using the \u201cfilter\u201d function. Note that by calling the \u201ccollect\u201d function, all elements are returned to the Apache Spark Driver. This is not a good idea for BigData, please use \u201c.sample(10,0.1).collect()\u201d or \u201ctake(n)\u201d instead."
        },
        {
            "cell_type": "code",
            "execution_count": 8,
            "metadata": {},
            "outputs": [
                {
                    "data": {
                        "text/plain": "[83,\n 99,\n 86,\n 81,\n 98,\n 85,\n 63,\n 89,\n 57,\n 84,\n 92,\n 76,\n 66,\n 60,\n 51,\n 87,\n 70,\n 97,\n 77,\n 94,\n 72,\n 55,\n 54,\n 79,\n 61,\n 80,\n 58,\n 91,\n 88,\n 53,\n 52,\n 69,\n 90,\n 65,\n 68,\n 62,\n 74,\n 95,\n 56,\n 93,\n 67,\n 71,\n 96,\n 78,\n 59,\n 75,\n 82,\n 64,\n 73]"
                    },
                    "execution_count": 8,
                    "metadata": {},
                    "output_type": "execute_result"
                }
            ],
            "source": "rdd.filter(gt50).collect()"
        },
        {
            "cell_type": "markdown",
            "metadata": {},
            "source": "We can also use the lambda function directly."
        },
        {
            "cell_type": "code",
            "execution_count": 9,
            "metadata": {},
            "outputs": [
                {
                    "data": {
                        "text/plain": "[83,\n 99,\n 86,\n 81,\n 98,\n 85,\n 63,\n 89,\n 57,\n 84,\n 92,\n 76,\n 66,\n 60,\n 51,\n 87,\n 70,\n 97,\n 77,\n 94,\n 72,\n 55,\n 54,\n 79,\n 61,\n 80,\n 58,\n 91,\n 88,\n 53,\n 52,\n 69,\n 90,\n 65,\n 68,\n 62,\n 74,\n 95,\n 56,\n 93,\n 67,\n 71,\n 96,\n 78,\n 59,\n 75,\n 82,\n 64,\n 73]"
                    },
                    "execution_count": 9,
                    "metadata": {},
                    "output_type": "execute_result"
                }
            ],
            "source": "rdd.filter(lambda i: i > 50).collect()"
        },
        {
            "cell_type": "markdown",
            "metadata": {},
            "source": "Let\u2019s consider the same list of integers. Now we want to compute the sum for elements in that list which are greater than 50 but less than 75. Please implement the missing parts. "
        },
        {
            "cell_type": "code",
            "execution_count": 12,
            "metadata": {},
            "outputs": [
                {
                    "data": {
                        "text/plain": "1500"
                    },
                    "execution_count": 12,
                    "metadata": {},
                    "output_type": "execute_result"
                }
            ],
            "source": "rdd.filter(lambda x: x>50).filter(lambda x: x < 75).sum()"
        },
        {
            "cell_type": "markdown",
            "metadata": {},
            "source": "You should see \"1500\" as answer. Now we want to know the sum of all elements. Please again, have a look at the API documentation and complete the code below in order to get the sum."
        }
    ],
    "metadata": {
        "kernelspec": {
            "display_name": "Python 3.6 with Spark",
            "language": "python3",
            "name": "python36"
        },
        "language_info": {
            "codemirror_mode": {
                "name": "ipython",
                "version": 3
            },
            "file_extension": ".py",
            "mimetype": "text/x-python",
            "name": "python",
            "nbconvert_exporter": "python",
            "pygments_lexer": "ipython3",
            "version": "3.6.8"
        }
    },
    "nbformat": 4,
    "nbformat_minor": 1
}